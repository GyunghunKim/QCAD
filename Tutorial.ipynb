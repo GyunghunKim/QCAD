{
 "cells": [
  {
   "cell_type": "markdown",
   "metadata": {
    "collapsed": true
   },
   "source": [
    "## A Simple Tutorial For using QCAD"
   ]
  },
  {
   "cell_type": "code",
   "execution_count": 1,
   "metadata": {},
   "outputs": [],
   "source": [
    "from QCAD import Module, QuantumCircuit, execute\n",
    "from QCAD import TypicalModule as tm\n",
    "\n",
    "import numpy as np"
   ]
  },
  {
   "cell_type": "markdown",
   "metadata": {},
   "source": [
    "### 1. Definition of Module\n",
    "- 이미 정의된 Module을 아래 나열하였습니다. </br> TypicalModule Class를 이용해 사용하시면 됩니다.\n",
    "\n",
    "- tm.I, tm.H, tm.X, tm.Y, tm.Z, tm.CX, tm.CZ, tm.CCX, tm.CCZ, tm.RX, tm.RY, tm.RZ, tm.U, tm.MCU\n",
    "\n",
    "- 이미 정의된 모듈을 재사용하여 새로운 모듈을 정의할 수 있습니다. </br> 이때 모듈의 PORT 순서를 변경할 수 있습니다."
   ]
  },
  {
   "cell_type": "code",
   "execution_count": 2,
   "metadata": {
    "scrolled": false
   },
   "outputs": [],
   "source": [
    "rx_half_pi = tm.RX('RXpi/2', np.pi/2)\n",
    "\n",
    "custom_u = tm.U('CUSTOMU', 1, [[-1, 0], [0, 1]])\n",
    "\n",
    "multi_control_h = tm.MCU('CCH', 3, [0, 1], tm.H[2])\n",
    "\n",
    "M = Module('M', 3, [tm.H[0],\n",
    "                    custom_u[2],\n",
    "                    multi_control_h[0, 1, 2]])\n",
    "\n",
    "N = Module('N', 4, [tm.MCU('MCM', 4, [3], M[0, 1, 2])[0, 1, 2, 3],\n",
    "                   tm.H[3]])"
   ]
  },
  {
   "cell_type": "code",
   "execution_count": 3,
   "metadata": {},
   "outputs": [
    {
     "name": "stdout",
     "output_type": "stream",
     "text": [
      "Name        :N\n",
      "N           :4\n",
      "sub_modules :[<QCAD.module.TypicalModule.MCU object at 0x7f624f9084e0>, <QCAD.module.Module object at 0x7f6278088ba8>]\n",
      "reg_indices :[[0, 1, 2, 3], [3]]\n",
      "typical     :False\n",
      "contolled   :False\n",
      "----------------------\n",
      "Name        :MCM\n",
      "N           :2\n",
      "sub_modules :[<QCAD.module.Module object at 0x7f6278088ba8>]\n",
      "reg_indices :[[1]]\n",
      "typical     :True\n",
      "contolled   :True\n",
      "control_bits  :[0]\n",
      "reg_index     :[3, 0]\n",
      "----------------------\n",
      "Name        :MCM\n",
      "N           :2\n",
      "sub_modules :[<QCAD.module.TypicalModule.U object at 0x7f624f908470>]\n",
      "reg_indices :[[1]]\n",
      "typical     :True\n",
      "contolled   :True\n",
      "control_bits  :[0]\n",
      "reg_index     :[3, 2]\n",
      "----------------------\n",
      "Name        :MCM\n",
      "N           :4\n",
      "sub_modules :[<QCAD.module.Module object at 0x7f6278088ba8>]\n",
      "reg_indices :[[3]]\n",
      "typical     :True\n",
      "contolled   :True\n",
      "control_bits  :[0, 1, 2]\n",
      "reg_index     :[3, 0, 1, 2]\n",
      "----------------------\n",
      "Name        :H\n",
      "N           :1\n",
      "sub_modules :[]\n",
      "reg_indices :[]\n",
      "typical     :True\n",
      "contolled   :False\n",
      "reg_index     :[3]\n"
     ]
    }
   ],
   "source": [
    "N.show()\n",
    "\n",
    "for _temp_module, _temp_reg_index in zip(*N.typ_decompose()):\n",
    "    print('----------------------')\n",
    "    _temp_module.show()\n",
    "    print(f'reg_index     :{_temp_reg_index}')"
   ]
  },
  {
   "cell_type": "markdown",
   "metadata": {},
   "source": [
    "### 2. Quantum Circuit Description using Modules\n",
    "\n",
    "Quantum Circuit은 사실상 하나의 큰 모듈과 같습니다. </br> 모듈을 정의한 뒤 이를 이용해 QC를 생성합니다."
   ]
  },
  {
   "cell_type": "code",
   "execution_count": 4,
   "metadata": {},
   "outputs": [],
   "source": [
    "qc = QuantumCircuit(N)"
   ]
  },
  {
   "cell_type": "markdown",
   "metadata": {},
   "source": [
    "### 3. Simulation of Quantum Circuit with arbitrary initial state"
   ]
  },
  {
   "cell_type": "code",
   "execution_count": 5,
   "metadata": {
    "scrolled": false
   },
   "outputs": [
    {
     "name": "stdout",
     "output_type": "stream",
     "text": [
      "[(0.7071067811865476+0j), 0j, 0j, 0j, 0j, 0j, 0j, 0j, (0.7071067811865476+0j), 0j, 0j, 0j, 0j, 0j, 0j, 0j]\n"
     ]
    },
    {
     "data": {
      "image/png": "[encoded data removed]",
      "text/plain": [
       "<Figure size 432x288 with 1 Axes>"
      ]
     },
     "metadata": {
      "needs_background": "light"
     },
     "output_type": "display_data"
    },
    {
     "name": "stdout",
     "output_type": "stream",
     "text": [
      "[(0.5+0j), 0j, (0.5+0j), 0j, 0j, 0j, 0j, 0j, (0.5+0j), 0j, (0.5+0j), 0j, 0j, 0j, 0j, 0j]\n"
     ]
    },
    {
     "data": {
      "image/png": "[encoded data removed]",
      "text/plain": [
       "<Figure size 432x288 with 1 Axes>"
      ]
     },
     "metadata": {
      "needs_background": "light"
     },
     "output_type": "display_data"
    },
    {
     "name": "stdout",
     "output_type": "stream",
     "text": [
      "[(0.7071067811865476+0j), 0j, 0j, 0j, 0j, 0j, 0j, 0j, (0.7071067811865476+0j), 0j, 0j, 0j, 0j, 0j, 0j, 0j]\n"
     ]
    },
    {
     "data": {
      "image/png": "[encoded data removed]",
      "text/plain": [
       "<Figure size 432x288 with 1 Axes>"
      ]
     },
     "metadata": {
      "needs_background": "light"
     },
     "output_type": "display_data"
    }
   ],
   "source": [
    "execute('MatrixModel', qc)\n",
    "execute('MatrixModel', qc, [[1, 0], [1/np.sqrt(2), 1/np.sqrt(2)], [1, 0], [1, 0]])\n",
    "execute('MatrixModel', qc, [1, 0, 0, 0, 0, 0, 0, 0, 0, 0, 0, 0, 0, 0, 0, 0])"
   ]
  },
  {
   "cell_type": "markdown",
   "metadata": {},
   "source": [
    "### 4. Simulation using C++ simulator\n",
    "\n",
    "아직 제작 중입니다. 개발 완료된 부분과 개발 예정인 부분은 다음과 같습니다.\n",
    "\n",
    "> ### 성능\n",
    "> 랩톱 기준 (i5 4세대, 4GB RAM)\n",
    "> 25qubit 1개 게이트 1초 정도 소요\n",
    "\n",
    "> ### 현재 상태\n",
    "> 1. ONLY single target gates\n",
    "> 1. Results are on the console\n",
    "> 1. Initial state = |0>\n",
    "\n",
    "> ### 개발 예정 (~1/8)\n",
    "> 1. CNOT gate\n",
    "> 1. Arbitrary initial state\n",
    "> 1. Running time measurement (Interface?)\n",
    "> 1. Visualization using graphs, interaction with python output stream\n",
    "> 1. Optimization for particular single gates Ex) X, Y ..."
   ]
  },
  {
   "cell_type": "code",
   "execution_count": 1,
   "metadata": {},
   "outputs": [],
   "source": [
    "from QCAD import Module, QuantumCircuit, execute\n",
    "from QCAD import TypicalModule as tm\n",
    "\n",
    "import numpy as np\n",
    "\n",
    "M = Module('M', 4, [tm.H[0],\n",
    "                    tm.CX[1, 2]])\n",
    "N = Module('N', 25, [M[3, 4, 5, 6]])\n",
    "\n",
    "qc = QuantumCircuit(N)\n",
    "\n",
    "execute('Cimulator', qc, option='NoPrint')"
   ]
  },
  {
   "cell_type": "code",
   "execution_count": null,
   "metadata": {},
   "outputs": [],
   "source": []
  }
 ],
 "metadata": {
  "kernelspec": {
   "display_name": "Python 3",
   "language": "python",
   "name": "python3"
  },
  "language_info": {
   "codemirror_mode": {
    "name": "ipython",
    "version": 3
   },
   "file_extension": ".py",
   "mimetype": "text/x-python",
   "name": "python",
   "nbconvert_exporter": "python",
   "pygments_lexer": "ipython3",
   "version": "3.7.0"
  }
 },
 "nbformat": 4,
 "nbformat_minor": 1
}
