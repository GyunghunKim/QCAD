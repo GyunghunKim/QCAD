{
 "cells": [
  {
   "cell_type": "markdown",
   "metadata": {
    "collapsed": true
   },
   "source": [
    "# A Simple Tutorial For using QCAD"
   ]
  },
  {
   "cell_type": "code",
   "execution_count": 1,
   "metadata": {},
   "outputs": [],
   "source": [
    "from Modules import Module, execute\n",
    "from Modules import TypicalModule as tm\n",
    "from Modules.CircuitDrawer import draw\n",
    "\n",
    "import numpy as np"
   ]
  },
  {
   "cell_type": "markdown",
   "metadata": {},
   "source": [
    "## 1. Circuit Description\n",
    "\n",
    "- ***Modules*** are elements of a quantum circuit and composed of elementary modules.\n",
    "\n",
    "- A ***quantum circuit*** is also a module which is excutable with any initial states.\n",
    "\n",
    "- The ***typical modules*** are elementary pre-defined modules. <br>The list of typical modules follows: tm.I, tm.H, tm.X, tm.Y, tm.Z, tm.CX, tm.CZ, tm.CCX, tm.CCZ, tm.RX, tm.RY, tm.RZ, tm.U, and tm.MCU\n",
    "\n",
    "- Modules can be constructed from either typical modules or customly pre-defined modules.\n",
    "\n",
    "- Modules has the same number of input and output ports. Each port is connected to a single qubit. The number of ports of a module is said to be the ***size of module*** and must be fixed when the module is defined. The ***qubit number*** of qubits of a module is indicator of each qubit of module and starts from 0 and ends at (size-1).\n",
    "\n",
    "- A ***submodule*** is one of modules consisting a larger module.\n",
    "\n",
    "- The ports of a submodule can be arbitrarily connected from the definition of module."
   ]
  },
  {
   "cell_type": "code",
   "execution_count": 2,
   "metadata": {
    "scrolled": false
   },
   "outputs": [],
   "source": [
    "# Definition of a typical module RX\n",
    "# Module name: 'RXPI/2'\n",
    "rx_half_pi = tm.RX('RXPI/2', np.pi/2)\n",
    "\n",
    "# Definition of a typical module U(Unitary gate defined by matrix)\n",
    "# Module size: 1\n",
    "custom_u = tm.U('CUSTOMU', 1, [[-1, 0], [0, 1]]) \n",
    "\n",
    "# Definition of a typical module MCU(Multi-controlled U) submodule H.\n",
    "# Module name: 'CCH', Module size: 3, Control bits: qubits #0 and #1,\n",
    "# Controlled gate: tm.H[2] (H applied to qubit #2)\n",
    "multi_control_h = tm.MCU('CCH', 3, [0, 1], tm.H[2])"
   ]
  },
  {
   "cell_type": "code",
   "execution_count": 3,
   "metadata": {},
   "outputs": [],
   "source": [
    "# Definition of a custom module using pre-defined modules.\n",
    "# Module name: 'SWAP', Module size: 2,\n",
    "# The first CX is applied to qubits #0 and #1. #0 is the control bit and X is applied on #1.\n",
    "# The second CX is applied to qubits #1 and #0(DIFFERENT TO THE FIRST ONE).\n",
    "# #1 is the control bit and X is applied on #0 now.\n",
    "# The thrid one is same as the first one.\n",
    "SWAP = Module('SWAP', 2, [tm.CX[0, 1],\n",
    "                         tm.CX[1, 0],\n",
    "                         tm.CX[0, 1]])"
   ]
  },
  {
   "cell_type": "code",
   "execution_count": 4,
   "metadata": {},
   "outputs": [],
   "source": [
    "# Examples of custom controlled gates using MCU(Multi control unitary gates)\n",
    "\n",
    "CH = tm.MCU('CH', 2, [0], tm.H[1])\n",
    "CS = tm.MCU('CS', 2, [0], tm.S[1])\n",
    "CT = tm.MCU('CT', 2, [0], tm.T[1])\n",
    "\n",
    "# Module Fourier3\n",
    "\n",
    "F3 = Module('F3', 3, [tm.H[0],\n",
    "                      CS[1, 0],\n",
    "                      CT[2, 0],\n",
    "                      tm.H[1],\n",
    "                      CS[2, 1],\n",
    "                      tm.H[2],\n",
    "                      SWAP[0, 2]])"
   ]
  },
  {
   "cell_type": "code",
   "execution_count": 5,
   "metadata": {},
   "outputs": [],
   "source": [
    "# Another example of modules\n",
    "CSWAP = tm.MCU('CSWAP', 3, [0], SWAP[1, 2])\n",
    "\n",
    "QC = Module('QC', 5, [F3[0, 2, 4],\n",
    "                      CSWAP[4, 0, 2],\n",
    "                      tm.MCU('MCF3', 5, [0, 1], F3[2, 3, 4])[0, 1, 2, 3, 4]])"
   ]
  },
  {
   "cell_type": "code",
   "execution_count": 6,
   "metadata": {},
   "outputs": [
    {
     "name": "stdout",
     "output_type": "stream",
     "text": [
      "Name        :QC\n",
      "N           :5\n",
      "sub_modules :[<Modules.module.Module object at 0x7f5218c83b50>, <Modules.module.TypicalModule.MCU object at 0x7f5218c83950>, <Modules.module.TypicalModule.MCU object at 0x7f5218c83b10>]\n",
      "reg_indices :[[0, 2, 4], [4, 0, 2], [0, 1, 2, 3, 4]]\n",
      "typical     :False\n",
      "contolled   :False\n"
     ]
    }
   ],
   "source": [
    "# The functino show() prints out the typical-level decomposition of a module.\n",
    "QC.show()"
   ]
  },
  {
   "cell_type": "markdown",
   "metadata": {},
   "source": [
    "## 2. Drawing a module\n",
    "\n",
    "- Quantum circuit is a module.\n",
    "- You can easily draw a module with the function draw()."
   ]
  },
  {
   "cell_type": "code",
   "execution_count": 7,
   "metadata": {},
   "outputs": [
    {
     "data": {
      "image/png": "[encoded data removed]",
      "text/plain": [
       "<IPython.core.display.Image object>"
      ]
     },
     "metadata": {},
     "output_type": "display_data"
    },
    {
     "data": {
      "image/png": "[encoded data removed]",
      "text/plain": [
       "<IPython.core.display.Image object>"
      ]
     },
     "metadata": {},
     "output_type": "display_data"
    }
   ],
   "source": [
    "# Drawing a module.\n",
    "draw(QC)\n",
    "draw(QC, option='decomposed')"
   ]
  },
  {
   "cell_type": "markdown",
   "metadata": {},
   "source": [
    "## 3. Simulation of a quantum circuit with arbitrary initial state\n",
    "\n",
    "- **Quantum circuit is indeed a module.**\n",
    "- A ***Backend*** is an algorithm or a program itself used to calculate the quantum circuit (i.e. module).\n",
    "- There are two backends available: The 'MatrixModel' and the 'Cimulator'.\n",
    "- They both have same algorithms except that 'Cimulator' is a C++ program which is much faster than 'MatrixModel' made out of python only.\n",
    "- The algorithm is quite simple. Modules are first decomposed into the typical modules. Typical modules are applied to the qubits one by one. It saves much memory and calculation resources than the algorithm which calculates the whole unitary matrix of a module to simulate quantum computer.\n",
    "- The space and time complexity of this alogrithm is $O(2^n)$, where n denotes the size of module."
   ]
  },
  {
   "cell_type": "code",
   "execution_count": 8,
   "metadata": {
    "scrolled": true
   },
   "outputs": [
    {
     "data": {
      "image/png": "[encoded data removed]",
      "text/plain": [
       "<Figure size 432x288 with 1 Axes>"
      ]
     },
     "metadata": {
      "needs_background": "light"
     },
     "output_type": "display_data"
    },
    {
     "name": "stdout",
     "output_type": "stream",
     "text": [
      "==================================================\n",
      "# : State\n",
      "00000 : (0.25000000000000006+0j)\n",
      "00001 : (0.25000000000000006+0j)\n",
      "00010 : (0.25000000000000006+0j)\n",
      "00011 : (0.35355339059327384+0j)\n",
      "00100 : (0.25000000000000006+0j)\n",
      "00101 : (0.25000000000000006+0j)\n",
      "00110 : (0.25000000000000006+0j)\n",
      "01011 : (0.17677669529663692+0.17677669529663692j)\n",
      "01111 : (0.17677669529663692-0.17677669529663692j)\n",
      "10000 : (0.25000000000000006+0j)\n",
      "10001 : (0.25000000000000006+0j)\n",
      "10010 : (0.25000000000000006+0j)\n",
      "10100 : (0.25000000000000006+0j)\n",
      "10101 : (0.25000000000000006+0j)\n",
      "10110 : (0.25000000000000006+0j)\n",
      "==================================================\n"
     ]
    }
   ],
   "source": [
    "execute('MatrixModel', QC, option='barplot')\n",
    "execute('MatrixModel', QC, [[1, 0], [1/np.sqrt(2), 1/np.sqrt(2)], [1, 0], [1, 0], [1, 0]], option='nonzero')\n",
    "execute('MatrixModel', QC, [0, 0, 0, 0, 0, 0, 0, 0, 0, 0, 0, 0, 0, 0, 0, 0, 0, 0, 0, 0, 0, 0, 0, 0, 0, 0, 0, 0, 0, 0, 0, 1], option='silent')"
   ]
  },
  {
   "cell_type": "code",
   "execution_count": 9,
   "metadata": {
    "scrolled": true
   },
   "outputs": [
    {
     "data": {
      "image/png": "[encoded data removed]",
      "text/plain": [
       "<Figure size 432x288 with 1 Axes>"
      ]
     },
     "metadata": {
      "needs_background": "light"
     },
     "output_type": "display_data"
    },
    {
     "name": "stdout",
     "output_type": "stream",
     "text": [
      "==================================================\n",
      "# : State\n",
      "00000 : (0.25000000000000006+0j)\n",
      "00001 : (0.25000000000000006+0j)\n",
      "00010 : (0.25000000000000006+0j)\n",
      "00011 : (0.35355339059327384+0j)\n",
      "00100 : (0.25000000000000006+0j)\n",
      "00101 : (0.25000000000000006+0j)\n",
      "00110 : (0.25000000000000006+0j)\n",
      "01011 : (0.17677669529663692+0.17677669529663692j)\n",
      "01111 : (0.17677669529663692-0.17677669529663692j)\n",
      "10000 : (0.25000000000000006+0j)\n",
      "10001 : (0.25000000000000006+0j)\n",
      "10010 : (0.25000000000000006+0j)\n",
      "10100 : (0.25000000000000006+0j)\n",
      "10101 : (0.25000000000000006+0j)\n",
      "10110 : (0.25000000000000006+0j)\n",
      "==================================================\n"
     ]
    }
   ],
   "source": [
    "execute('Cimulator', QC, option='barplot')\n",
    "execute('Cimulator', QC, [[1, 0], [1/np.sqrt(2), 1/np.sqrt(2)], [1, 0], [1, 0], [1, 0]], option='nonzero')\n",
    "execute('Cimulator', QC, [0, 0, 0, 0, 0, 0, 0, 0, 0, 0, 0, 0, 0, 0, 0, 0, 0, 0, 0, 0, 0, 0, 0, 0, 0, 0, 0, 0, 0, 0, 0, 1], option='silent')"
   ]
  }
 ],
 "metadata": {
  "kernelspec": {
   "display_name": "Python 3",
   "language": "python",
   "name": "python3"
  },
  "language_info": {
   "codemirror_mode": {
    "name": "ipython",
    "version": 3
   },
   "file_extension": ".py",
   "mimetype": "text/x-python",
   "name": "python",
   "nbconvert_exporter": "python",
   "pygments_lexer": "ipython3",
   "version": "3.7.6"
  }
 },
 "nbformat": 4,
 "nbformat_minor": 1
}
