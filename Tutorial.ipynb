{
 "cells": [
  {
   "cell_type": "markdown",
   "metadata": {
    "collapsed": true
   },
   "source": [
    "## A Simple Tutorial For using QCAD"
   ]
  },
  {
   "cell_type": "code",
   "execution_count": 1,
   "metadata": {},
   "outputs": [],
   "source": [
    "from QCAD import Module, QuantumCircuit, execute\n",
    "from QCAD import TypicalModule as tm\n",
    "\n",
    "import numpy as np"
   ]
  },
  {
   "cell_type": "markdown",
   "metadata": {},
   "source": [
    "### 1. Definition of Module\n",
    "- 이미 정의된 Module을 아래 나열하였습니다. </br> TypicalModule Class를 이용해 사용하시면 됩니다.\n",
    "\n",
    "- tm.I, tm.H, tm.X, tm.Y, tm.Z, tm.CX, tm.CZ, tm.CCX, tm.CCZ, tm.RX, tm.RY, tm.RZ, tm.U, tm.MCU\n",
    "\n",
    "- 이미 정의된 모듈을 재사용하여 새로운 모듈을 정의할 수 있습니다. </br> 이때 모듈의 PORT 순서를 변경할 수 있습니다."
   ]
  },
  {
   "cell_type": "code",
   "execution_count": 2,
   "metadata": {
    "scrolled": false
   },
   "outputs": [],
   "source": [
    "rx_half_pi = tm.RX('RXpi/2', np.pi/2)\n",
    "\n",
    "custom_u = tm.U('CUSTOMU', 1, [[-1, 0], [0, 1]])\n",
    "\n",
    "multi_control_h = tm.MCU('CCH', 3, [0, 1], tm.H[2])"
   ]
  },
  {
   "cell_type": "code",
   "execution_count": 3,
   "metadata": {},
   "outputs": [],
   "source": [
    "SWAP = Module('SWAP', 2, [tm.CX[0, 1],\n",
    "                         tm.CX[1, 0],\n",
    "                         tm.CX[0, 1]])"
   ]
  },
  {
   "cell_type": "code",
   "execution_count": 4,
   "metadata": {},
   "outputs": [],
   "source": [
    "# Controlled Gates\n",
    "\n",
    "CH = tm.MCU('CH', 2, [0], tm.H[1])\n",
    "CS = tm.MCU('CS', 2, [0], tm.S[1])\n",
    "CT = tm.MCU('CT', 2, [0], tm.T[1])\n",
    "\n",
    "# Module Fourier3\n",
    "\n",
    "F3 = Module('F3', 3, [tm.H[0],\n",
    "                      CS[1, 0],\n",
    "                      CT[2, 0],\n",
    "                      tm.H[1],\n",
    "                      CS[2, 1],\n",
    "                      tm.H[2],\n",
    "                      SWAP[0, 2]])"
   ]
  },
  {
   "cell_type": "code",
   "execution_count": 5,
   "metadata": {},
   "outputs": [],
   "source": [
    "# Module Quantum Circuit\n",
    "\n",
    "CSWAP = tm.MCU('CSWAP', 3, [0], SWAP[1, 2])\n",
    "\n",
    "QC = Module('QC', 5, [F3[0, 2, 4],\n",
    "                      CSWAP[4, 0, 2],\n",
    "                      tm.MCU('MCF3', 5, [0, 1], F3[2, 3, 4])[0, 1, 2, 3, 4]])"
   ]
  },
  {
   "cell_type": "code",
   "execution_count": 6,
   "metadata": {},
   "outputs": [
    {
     "name": "stdout",
     "output_type": "stream",
     "text": [
      "Name        :QC\n",
      "N           :5\n",
      "sub_modules :[<QCAD.module.Module object at 0x7f1c1435d898>, <QCAD.module.TypicalModule.MCU object at 0x7f1c1435d198>, <QCAD.module.TypicalModule.MCU object at 0x7f1c1435d160>]\n",
      "reg_indices :[[0, 2, 4], [4, 0, 2], [0, 1, 2, 3, 4]]\n",
      "typical     :False\n",
      "contolled   :False\n"
     ]
    }
   ],
   "source": [
    "QC.show()\n",
    "\n",
    "# Module Decomposition\n",
    "\n",
    "# for _temp_module, _temp_reg_index in zip(*QC.typ_decompose()):\n",
    "#     print('----------------------')\n",
    "#     _temp_module.show()\n",
    "#     print(f'reg_index     :{_temp_reg_index}')"
   ]
  },
  {
   "cell_type": "markdown",
   "metadata": {},
   "source": [
    "### 2. Quantum Circuit Description using Modules\n",
    "\n",
    "Quantum Circuit은 사실상 하나의 큰 모듈과 같습니다. </br> 모듈을 정의한 뒤 이를 이용해 QC를 생성합니다."
   ]
  },
  {
   "cell_type": "code",
   "execution_count": 7,
   "metadata": {},
   "outputs": [],
   "source": [
    "qc = QuantumCircuit(QC)"
   ]
  },
  {
   "cell_type": "markdown",
   "metadata": {},
   "source": [
    "### 3. Simulation of Quantum Circuit with arbitrary initial state"
   ]
  },
  {
   "cell_type": "code",
   "execution_count": null,
   "metadata": {},
   "outputs": [],
   "source": [
    "execute('MatrixModel', qc)\n",
    "execute('MatrixModel', qc, [[1, 0], [1/np.sqrt(2), 1/np.sqrt(2)], [1, 0], [1, 0], [1, 0]])\n",
    "# execute('MatrixModel', qc, [1, 0, 0, 0, 0, 0, 0, 0, 0, 0, 0, 0, 0, 0, 0, 0])"
   ]
  }
 ],
 "metadata": {
  "kernelspec": {
   "display_name": "Python 3",
   "language": "python",
   "name": "python3"
  },
  "language_info": {
   "codemirror_mode": {
    "name": "ipython",
    "version": 3
   },
   "file_extension": ".py",
   "mimetype": "text/x-python",
   "name": "python",
   "nbconvert_exporter": "python",
   "pygments_lexer": "ipython3",
   "version": "3.7.0"
  }
 },
 "nbformat": 4,
 "nbformat_minor": 1
}
