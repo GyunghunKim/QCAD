{
 "cells": [
  {
   "cell_type": "markdown",
   "metadata": {
    "collapsed": true
   },
   "source": [
    "## A Simple Tutorial For using QCAD"
   ]
  },
  {
   "cell_type": "code",
   "execution_count": 8,
   "metadata": {},
   "outputs": [
    {
     "data": {
      "text/plain": [
       "'/home/gyunghun/workspace/QCAD'"
      ]
     },
     "execution_count": 8,
     "metadata": {},
     "output_type": "execute_result"
    }
   ],
   "source": [
    "import os\n",
    "\n",
    "os.getcwd()"
   ]
  },
  {
   "cell_type": "code",
   "execution_count": 9,
   "metadata": {},
   "outputs": [],
   "source": [
    "from QCAD import Module, QuantumCircuit, execute\n",
    "from QCAD import TypicalModule as tm\n",
    "\n",
    "import numpy as np"
   ]
  },
  {
   "cell_type": "markdown",
   "metadata": {},
   "source": [
    "### 1. Definition of Module\n",
    "- 이미 정의된 Module을 아래 나열하였습니다. </br> TypicalModule Class를 이용해 사용하시면 됩니다.\n",
    "\n",
    "- tm.I, tm.H, tm.X, tm.Y, tm.Z, tm.CX, tm.CZ, tm.CCX, tm.CCZ, tm.RX, tm.RY, tm.RZ, tm.U, tm.MCU\n",
    "\n",
    "- 이미 정의된 모듈을 재사용하여 새로운 모듈을 정의할 수 있습니다. </br> 이때 모듈의 PORT 순서를 변경할 수 있습니다."
   ]
  },
  {
   "cell_type": "code",
   "execution_count": 10,
   "metadata": {},
   "outputs": [
    {
     "data": {
      "text/plain": [
       "([<QCAD.module.Module at 0x7f070a494588>,\n",
       "  <QCAD.module.Module at 0x7f0701f5f470>,\n",
       "  <QCAD.module.Module at 0x7f070a52a828>,\n",
       "  <QCAD.module.Module at 0x7f0701f5f358>,\n",
       "  <QCAD.module.Module at 0x7f07005caeb8>,\n",
       "  <QCAD.module.Module at 0x7f06f8a9ef28>,\n",
       "  <QCAD.module.Module at 0x7f070a4943c8>],\n",
       " [[0], [3], [2], [1], [1], [2], [0]])"
      ]
     },
     "execution_count": 10,
     "metadata": {},
     "output_type": "execute_result"
    }
   ],
   "source": [
    "rx_half_pi = tm.RX(np.pi/2)\n",
    "\n",
    "custom_u = tm.U(2, [[-1, 0], [0, 1]])\n",
    "\n",
    "multi_control_h = tm.MCU(3, [0, 1], tm.H[2])\n",
    "\n",
    "M = Module('M', 4, [tm.H[0],\n",
    "                    tm.Z[3],\n",
    "                    tm.X[2],\n",
    "                    tm.Y[1],\n",
    "                    tm.T[1],\n",
    "                    tm.S[2],\n",
    "                    tm.I[0]])\n",
    "\n",
    "N = Module('N', 5, [M[0, 1, 2, 3]])\n",
    "\n",
    "N.typ_decompose()"
   ]
  },
  {
   "cell_type": "markdown",
   "metadata": {},
   "source": [
    "### 2. Quantum Circuit Description using Modules\n",
    "\n",
    "Quantum Circuit은 사실상 하나의 큰 모듈과 같습니다. </br> 모듈을 정의한 뒤 이를 이용해 QC를 생성합니다."
   ]
  },
  {
   "cell_type": "code",
   "execution_count": 11,
   "metadata": {},
   "outputs": [],
   "source": [
    "qc = QuantumCircuit(N)"
   ]
  },
  {
   "cell_type": "code",
   "execution_count": 12,
   "metadata": {},
   "outputs": [],
   "source": [
    "execute('Cimulator', qc, option='NoPrint')"
   ]
  },
  {
   "cell_type": "markdown",
   "metadata": {},
   "source": [
    "### 3. Simulation of Quantum Circuit with arbitrary initial state"
   ]
  },
  {
   "cell_type": "code",
   "execution_count": 12,
   "metadata": {},
   "outputs": [
    {
     "name": "stdout",
     "output_type": "stream",
     "text": [
      "[-0.35355339059327384j, (8.129419882081727e-18-8.129419882081727e-18j), (-0.25000000000000006+0.25000000000000006j), (-1.1496735851465466e-17+7.703719777548943e-34j), (-0.25000000000000006+0.25000000000000006j), 1.1496735851465466e-17j, (0.35355339059327384-2.7755575615628914e-17j), (8.129419882081727e-18-8.129419882081727e-18j), -0.35355339059327384j, (8.129419882081727e-18-8.129419882081727e-18j), (-0.25000000000000006+0.25000000000000006j), (-1.1496735851465466e-17+7.703719777548943e-34j), (-0.25000000000000006+0.25000000000000006j), 1.1496735851465466e-17j, (0.35355339059327384-2.7755575615628914e-17j), (8.129419882081727e-18-8.129419882081727e-18j)]\n"
     ]
    },
    {
     "data": {
      "image/png": "[encoded data removed]",
      "text/plain": [
       "<Figure size 432x288 with 1 Axes>"
      ]
     },
     "metadata": {
      "needs_background": "light"
     },
     "output_type": "display_data"
    },
    {
     "name": "stdout",
     "output_type": "stream",
     "text": [
      "[0j, 0j, (-0.3535533905932738+0.3535533905932738j), (-1.6258839764163454e-17+1.0894704990131558e-33j), 0j, 0j, (0.5000000000000001-3.925231146709437e-17j), (1.1496735851465464e-17-1.1496735851465464e-17j), 0j, 0j, (-0.3535533905932738+0.3535533905932738j), (-1.6258839764163454e-17+1.0894704990131558e-33j), 0j, 0j, (0.5000000000000001-3.925231146709437e-17j), (1.1496735851465464e-17-1.1496735851465464e-17j)]\n"
     ]
    },
    {
     "data": {
      "image/png": "[encoded data removed]",
      "text/plain": [
       "<Figure size 432x288 with 1 Axes>"
      ]
     },
     "metadata": {
      "needs_background": "light"
     },
     "output_type": "display_data"
    },
    {
     "name": "stdout",
     "output_type": "stream",
     "text": [
      "[-0.35355339059327384j, (8.129419882081727e-18-8.129419882081727e-18j), (-0.25000000000000006+0.25000000000000006j), (-1.1496735851465466e-17+7.703719777548943e-34j), (-0.25000000000000006+0.25000000000000006j), 1.1496735851465466e-17j, (0.35355339059327384-2.7755575615628914e-17j), (8.129419882081727e-18-8.129419882081727e-18j), -0.35355339059327384j, (8.129419882081727e-18-8.129419882081727e-18j), (-0.25000000000000006+0.25000000000000006j), (-1.1496735851465466e-17+7.703719777548943e-34j), (-0.25000000000000006+0.25000000000000006j), 1.1496735851465466e-17j, (0.35355339059327384-2.7755575615628914e-17j), (8.129419882081727e-18-8.129419882081727e-18j)]\n"
     ]
    },
    {
     "data": {
      "image/png": "[encoded data removed]",
      "text/plain": [
       "<Figure size 432x288 with 1 Axes>"
      ]
     },
     "metadata": {
      "needs_background": "light"
     },
     "output_type": "display_data"
    }
   ],
   "source": [
    "execute('MatrixModel', qc)\n",
    "execute('MatrixModel', qc, [[1, 0], [1/np.sqrt(2), 1/np.sqrt(2)], [1, 0], [1, 0]])\n",
    "execute('MatrixModel', qc, [1, 0, 0, 0, 0, 0, 0, 0, 0, 0, 0, 0, 0, 0, 0, 0])"
   ]
  },
  {
   "cell_type": "code",
   "execution_count": null,
   "metadata": {},
   "outputs": [],
   "source": []
  }
 ],
 "metadata": {
  "kernelspec": {
   "display_name": "Python 3",
   "language": "python",
   "name": "python3"
  },
  "language_info": {
   "codemirror_mode": {
    "name": "ipython",
    "version": 3
   },
   "file_extension": ".py",
   "mimetype": "text/x-python",
   "name": "python",
   "nbconvert_exporter": "python",
   "pygments_lexer": "ipython3",
   "version": "3.7.0"
  }
 },
 "nbformat": 4,
 "nbformat_minor": 1
}
