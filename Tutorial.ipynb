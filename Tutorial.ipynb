{
 "cells": [
  {
   "cell_type": "markdown",
   "metadata": {
    "collapsed": true
   },
   "source": [
    "## A Simple Tutorial For using QCAD"
   ]
  },
  {
   "cell_type": "code",
   "execution_count": 1,
   "metadata": {},
   "outputs": [],
   "source": [
    "from QCAD import Module, QuantumCircuit, execute\n",
    "from QCAD import TypicalModule as tm\n",
    "\n",
    "import numpy as np"
   ]
  },
  {
   "cell_type": "markdown",
   "metadata": {},
   "source": [
    "### 1. Definition of Module\n",
    "- 이미 정의된 Module을 아래 나열하였습니다. </br> TypicalModule Class를 이용해 사용하시면 됩니다.\n",
    "\n",
    "- tm.I, tm.H, tm.X, tm.Y, tm.Z, tm.CX, tm.CZ, tm.CCX, tm.CCZ, tm.RX, tm.RY, tm.RZ, tm.U, tm.MCU\n",
    "\n",
    "- 이미 정의된 모듈을 재사용하여 새로운 모듈을 정의할 수 있습니다. </br> 이때 모듈의 PORT 순서를 변경할 수 있습니다."
   ]
  },
  {
   "cell_type": "code",
   "execution_count": 2,
   "metadata": {
    "scrolled": false
   },
   "outputs": [],
   "source": [
    "rx_half_pi = tm.RX('RXPI/2', np.pi/2)\n",
    "\n",
    "custom_u = tm.U('CUSTOMU', 1, [[-1, 0], [0, 1]])\n",
    "\n",
    "multi_control_h = tm.MCU('CCH', 3, [0, 1], tm.H[2])"
   ]
  },
  {
   "cell_type": "code",
   "execution_count": 3,
   "metadata": {},
   "outputs": [],
   "source": [
    "SWAP = Module('SWAP', 2, [tm.CX[0, 1],\n",
    "                         tm.CX[1, 0],\n",
    "                         tm.CX[0, 1]])"
   ]
  },
  {
   "cell_type": "code",
   "execution_count": 4,
   "metadata": {},
   "outputs": [],
   "source": [
    "# Controlled Gates\n",
    "\n",
    "CH = tm.MCU('CH', 2, [0], tm.H[1])\n",
    "CS = tm.MCU('CS', 2, [0], tm.S[1])\n",
    "CT = tm.MCU('CT', 2, [0], tm.T[1])\n",
    "\n",
    "# Module Fourier3\n",
    "\n",
    "F3 = Module('F3', 3, [tm.H[0],\n",
    "                      CS[1, 0],\n",
    "                      CT[2, 0],\n",
    "                      tm.H[1],\n",
    "                      CS[2, 1],\n",
    "                      tm.H[2],\n",
    "                      SWAP[0, 2]])"
   ]
  },
  {
   "cell_type": "code",
   "execution_count": 5,
   "metadata": {},
   "outputs": [],
   "source": [
    "# Module Quantum Circuit\n",
    "\n",
    "CSWAP = tm.MCU('CSWAP', 3, [0], SWAP[1, 2])\n",
    "\n",
    "QC = Module('QC', 5, [F3[0, 2, 4],\n",
    "                      CSWAP[4, 0, 2],\n",
    "                      tm.MCU('MCF3', 5, [0, 1], F3[2, 3, 4])[0, 1, 2, 3, 4]])"
   ]
  },
  {
   "cell_type": "code",
   "execution_count": 6,
   "metadata": {},
   "outputs": [
    {
     "name": "stdout",
     "output_type": "stream",
     "text": [
      "Name        :QC\n",
      "N           :5\n",
      "sub_modules :[<QCAD.module.Module object at 0x7f89a4789710>, <QCAD.module.TypicalModule.MCU object at 0x7f89cc71c4e0>, <QCAD.module.TypicalModule.MCU object at 0x7f89cc71c240>]\n",
      "reg_indices :[[0, 2, 4], [4, 0, 2], [0, 1, 2, 3, 4]]\n",
      "typical     :False\n",
      "contolled   :False\n",
      "--------------------------------------------------------------------------------\n",
      "Name        :H\n",
      "N           :1\n",
      "sub_modules :[]\n",
      "reg_indices :[]\n",
      "typical     :True\n",
      "contolled   :False\n",
      "reg_index     :[0]\n",
      "--------------------------------------------------------------------------------\n",
      "Name        :CS\n",
      "N           :2\n",
      "sub_modules :[<QCAD.module.Module object at 0x7f89cc0f1c88>]\n",
      "reg_indices :[[1]]\n",
      "typical     :True\n",
      "contolled   :True\n",
      "control_bits  :[0]\n",
      "reg_index     :[2, 0]\n",
      "--------------------------------------------------------------------------------\n",
      "Name        :CT\n",
      "N           :2\n",
      "sub_modules :[<QCAD.module.Module object at 0x7f89cc729cf8>]\n",
      "reg_indices :[[1]]\n",
      "typical     :True\n",
      "contolled   :True\n",
      "control_bits  :[0]\n",
      "reg_index     :[4, 0]\n",
      "--------------------------------------------------------------------------------\n",
      "Name        :H\n",
      "N           :1\n",
      "sub_modules :[]\n",
      "reg_indices :[]\n",
      "typical     :True\n",
      "contolled   :False\n",
      "reg_index     :[2]\n",
      "--------------------------------------------------------------------------------\n",
      "Name        :CS\n",
      "N           :2\n",
      "sub_modules :[<QCAD.module.Module object at 0x7f89cc0f1c88>]\n",
      "reg_indices :[[1]]\n",
      "typical     :True\n",
      "contolled   :True\n",
      "control_bits  :[0]\n",
      "reg_index     :[4, 2]\n",
      "--------------------------------------------------------------------------------\n",
      "Name        :H\n",
      "N           :1\n",
      "sub_modules :[]\n",
      "reg_indices :[]\n",
      "typical     :True\n",
      "contolled   :False\n",
      "reg_index     :[4]\n",
      "--------------------------------------------------------------------------------\n",
      "Name        :CX\n",
      "N           :2\n",
      "sub_modules :[<QCAD.module.Module object at 0x7f89cc71cba8>]\n",
      "reg_indices :[[1]]\n",
      "typical     :True\n",
      "contolled   :True\n",
      "control_bits  :[0]\n",
      "reg_index     :[0, 4]\n",
      "--------------------------------------------------------------------------------\n",
      "Name        :CX\n",
      "N           :2\n",
      "sub_modules :[<QCAD.module.Module object at 0x7f89cc71cba8>]\n",
      "reg_indices :[[1]]\n",
      "typical     :True\n",
      "contolled   :True\n",
      "control_bits  :[0]\n",
      "reg_index     :[4, 0]\n",
      "--------------------------------------------------------------------------------\n",
      "Name        :CX\n",
      "N           :2\n",
      "sub_modules :[<QCAD.module.Module object at 0x7f89cc71cba8>]\n",
      "reg_indices :[[1]]\n",
      "typical     :True\n",
      "contolled   :True\n",
      "control_bits  :[0]\n",
      "reg_index     :[0, 4]\n",
      "--------------------------------------------------------------------------------\n",
      "Name        :CCX\n",
      "N           :3\n",
      "sub_modules :[<QCAD.module.Module object at 0x7f89cc71cba8>]\n",
      "reg_indices :[[2]]\n",
      "typical     :True\n",
      "contolled   :True\n",
      "control_bits  :[0, 1]\n",
      "reg_index     :[4, 0, 2]\n",
      "--------------------------------------------------------------------------------\n",
      "Name        :CCX\n",
      "N           :3\n",
      "sub_modules :[<QCAD.module.Module object at 0x7f89cc71cba8>]\n",
      "reg_indices :[[2]]\n",
      "typical     :True\n",
      "contolled   :True\n",
      "control_bits  :[0, 1]\n",
      "reg_index     :[4, 2, 0]\n",
      "--------------------------------------------------------------------------------\n",
      "Name        :CCX\n",
      "N           :3\n",
      "sub_modules :[<QCAD.module.Module object at 0x7f89cc71cba8>]\n",
      "reg_indices :[[2]]\n",
      "typical     :True\n",
      "contolled   :True\n",
      "control_bits  :[0, 1]\n",
      "reg_index     :[4, 0, 2]\n",
      "--------------------------------------------------------------------------------\n",
      "Name        :CCH\n",
      "N           :3\n",
      "sub_modules :[<QCAD.module.Module object at 0x7f89cc71cb38>]\n",
      "reg_indices :[[2]]\n",
      "typical     :True\n",
      "contolled   :True\n",
      "control_bits  :[0, 1]\n",
      "reg_index     :[0, 1, 2]\n",
      "--------------------------------------------------------------------------------\n",
      "Name        :CCCS\n",
      "N           :4\n",
      "sub_modules :[<QCAD.module.Module object at 0x7f89cc0f1c88>]\n",
      "reg_indices :[[3]]\n",
      "typical     :True\n",
      "contolled   :True\n",
      "control_bits  :[0, 1, 2]\n",
      "reg_index     :[0, 1, 3, 2]\n",
      "--------------------------------------------------------------------------------\n",
      "Name        :CCCT\n",
      "N           :4\n",
      "sub_modules :[<QCAD.module.Module object at 0x7f89cc729cf8>]\n",
      "reg_indices :[[3]]\n",
      "typical     :True\n",
      "contolled   :True\n",
      "control_bits  :[0, 1, 2]\n",
      "reg_index     :[0, 1, 4, 2]\n",
      "--------------------------------------------------------------------------------\n",
      "Name        :CCH\n",
      "N           :3\n",
      "sub_modules :[<QCAD.module.Module object at 0x7f89cc71cb38>]\n",
      "reg_indices :[[2]]\n",
      "typical     :True\n",
      "contolled   :True\n",
      "control_bits  :[0, 1]\n",
      "reg_index     :[0, 1, 3]\n",
      "--------------------------------------------------------------------------------\n",
      "Name        :CCCS\n",
      "N           :4\n",
      "sub_modules :[<QCAD.module.Module object at 0x7f89cc0f1c88>]\n",
      "reg_indices :[[3]]\n",
      "typical     :True\n",
      "contolled   :True\n",
      "control_bits  :[0, 1, 2]\n",
      "reg_index     :[0, 1, 4, 3]\n",
      "--------------------------------------------------------------------------------\n",
      "Name        :CCH\n",
      "N           :3\n",
      "sub_modules :[<QCAD.module.Module object at 0x7f89cc71cb38>]\n",
      "reg_indices :[[2]]\n",
      "typical     :True\n",
      "contolled   :True\n",
      "control_bits  :[0, 1]\n",
      "reg_index     :[0, 1, 4]\n",
      "--------------------------------------------------------------------------------\n",
      "Name        :CCCX\n",
      "N           :4\n",
      "sub_modules :[<QCAD.module.Module object at 0x7f89cc71cba8>]\n",
      "reg_indices :[[3]]\n",
      "typical     :True\n",
      "contolled   :True\n",
      "control_bits  :[0, 1, 2]\n",
      "reg_index     :[0, 1, 2, 4]\n",
      "--------------------------------------------------------------------------------\n",
      "Name        :CCCX\n",
      "N           :4\n",
      "sub_modules :[<QCAD.module.Module object at 0x7f89cc71cba8>]\n",
      "reg_indices :[[3]]\n",
      "typical     :True\n",
      "contolled   :True\n",
      "control_bits  :[0, 1, 2]\n",
      "reg_index     :[0, 1, 4, 2]\n",
      "--------------------------------------------------------------------------------\n",
      "Name        :CCCX\n",
      "N           :4\n",
      "sub_modules :[<QCAD.module.Module object at 0x7f89cc71cba8>]\n",
      "reg_indices :[[3]]\n",
      "typical     :True\n",
      "contolled   :True\n",
      "control_bits  :[0, 1, 2]\n",
      "reg_index     :[0, 1, 2, 4]\n"
     ]
    }
   ],
   "source": [
    "QC.show()\n",
    "\n",
    "# Module Decomposition\n",
    "\n",
    "for _temp_module, _temp_reg_index in zip(*QC.typ_decompose()):\n",
    "    print('-'*80)\n",
    "    _temp_module.show()\n",
    "    print(f'reg_index     :{_temp_reg_index}')"
   ]
  },
  {
   "cell_type": "markdown",
   "metadata": {},
   "source": [
    "### 2. Quantum Circuit Description using Modules\n",
    "\n",
    "Quantum Circuit은 사실상 하나의 큰 모듈과 같습니다. </br> 모듈을 정의한 뒤 이를 이용해 QC를 생성합니다."
   ]
  },
  {
   "cell_type": "code",
   "execution_count": 7,
   "metadata": {},
   "outputs": [],
   "source": [
    "qc = QuantumCircuit(QC)"
   ]
  },
  {
   "cell_type": "markdown",
   "metadata": {},
   "source": [
    "### 3. Simulation of Quantum Circuit with arbitrary initial state"
   ]
  },
  {
   "cell_type": "code",
   "execution_count": 8,
   "metadata": {
    "scrolled": true
   },
   "outputs": [
    {
     "name": "stdout",
     "output_type": "stream",
     "text": [
      "[[(0.35355339059327384+0j), (0.35355339059327384+0j), 0j, 0j, (0.35355339059327384+0j), (0.35355339059327384+0j), 0j, 0j, 0j, 0j, 0j, 0j, 0j, 0j, 0j, 0j, (0.35355339059327384+0j), (0.35355339059327384+0j), 0j, 0j, (0.35355339059327384+0j), (0.35355339059327384+0j), 0j, 0j, 0j, 0j, 0j, 0j, 0j, 0j, 0j, 0j]]\n"
     ]
    },
    {
     "ename": "TypeError",
     "evalue": "only size-1 arrays can be converted to Python scalars",
     "output_type": "error",
     "traceback": [
      "\u001b[0;31m---------------------------------------------------------------------------\u001b[0m",
      "\u001b[0;31mTypeError\u001b[0m                                 Traceback (most recent call last)",
      "\u001b[0;32m<ipython-input-8-2b880a2c70df>\u001b[0m in \u001b[0;36m<module>\u001b[0;34m()\u001b[0m\n\u001b[0;32m----> 1\u001b[0;31m \u001b[0mexecute\u001b[0m\u001b[0;34m(\u001b[0m\u001b[0;34m'MatrixModel'\u001b[0m\u001b[0;34m,\u001b[0m \u001b[0mqc\u001b[0m\u001b[0;34m)\u001b[0m\u001b[0;34m\u001b[0m\u001b[0m\n\u001b[0m\u001b[1;32m      2\u001b[0m \u001b[0;31m# execute('MatrixModel', qc, [[1, 0], [1/np.sqrt(2), 1/np.sqrt(2)], [1, 0], [1, 0], [1, 0]])\u001b[0m\u001b[0;34m\u001b[0m\u001b[0;34m\u001b[0m\u001b[0m\n\u001b[1;32m      3\u001b[0m \u001b[0;31m# execute('MatrixModel', qc, [1, 0, 0, 0, 0, 0, 0, 0, 0, 0, 0, 0, 0, 0, 0, 0])\u001b[0m\u001b[0;34m\u001b[0m\u001b[0;34m\u001b[0m\u001b[0m\n",
      "\u001b[0;32m~/workspace/QCAD/QCAD/execute.py\u001b[0m in \u001b[0;36mexecute\u001b[0;34m(backend, quantum_circuit, initial_state, option)\u001b[0m\n\u001b[1;32m     28\u001b[0m     \u001b[0mprint\u001b[0m\u001b[0;34m(\u001b[0m\u001b[0m_res\u001b[0m\u001b[0;34m)\u001b[0m\u001b[0;34m\u001b[0m\u001b[0m\n\u001b[1;32m     29\u001b[0m \u001b[0;34m\u001b[0m\u001b[0m\n\u001b[0;32m---> 30\u001b[0;31m     \u001b[0mplt\u001b[0m\u001b[0;34m.\u001b[0m\u001b[0mbar\u001b[0m\u001b[0;34m(\u001b[0m\u001b[0mnp\u001b[0m\u001b[0;34m.\u001b[0m\u001b[0marange\u001b[0m\u001b[0;34m(\u001b[0m\u001b[0;36m2\u001b[0m \u001b[0;34m**\u001b[0m \u001b[0mquantum_circuit\u001b[0m\u001b[0;34m.\u001b[0m\u001b[0mn\u001b[0m\u001b[0;34m)\u001b[0m\u001b[0;34m,\u001b[0m \u001b[0;34m[\u001b[0m\u001b[0;34m(\u001b[0m\u001b[0mx\u001b[0m\u001b[0;34m*\u001b[0m\u001b[0mnp\u001b[0m\u001b[0;34m.\u001b[0m\u001b[0mconjugate\u001b[0m\u001b[0;34m(\u001b[0m\u001b[0mx\u001b[0m\u001b[0;34m)\u001b[0m\u001b[0;34m)\u001b[0m\u001b[0;34m.\u001b[0m\u001b[0mreal\u001b[0m \u001b[0;32mfor\u001b[0m \u001b[0mx\u001b[0m \u001b[0;32min\u001b[0m \u001b[0m_res\u001b[0m\u001b[0;34m]\u001b[0m\u001b[0;34m)\u001b[0m\u001b[0;34m\u001b[0m\u001b[0m\n\u001b[0m\u001b[1;32m     31\u001b[0m     \u001b[0mplt\u001b[0m\u001b[0;34m.\u001b[0m\u001b[0mylabel\u001b[0m\u001b[0;34m(\u001b[0m\u001b[0;34m'Probability'\u001b[0m\u001b[0;34m)\u001b[0m\u001b[0;34m\u001b[0m\u001b[0m\n\u001b[1;32m     32\u001b[0m     \u001b[0mplt\u001b[0m\u001b[0;34m.\u001b[0m\u001b[0mxticks\u001b[0m\u001b[0;34m(\u001b[0m\u001b[0mnp\u001b[0m\u001b[0;34m.\u001b[0m\u001b[0marange\u001b[0m\u001b[0;34m(\u001b[0m\u001b[0;36m0\u001b[0m\u001b[0;34m,\u001b[0m \u001b[0;36m2\u001b[0m \u001b[0;34m**\u001b[0m \u001b[0mquantum_circuit\u001b[0m\u001b[0;34m.\u001b[0m\u001b[0mn\u001b[0m\u001b[0;34m)\u001b[0m\u001b[0;34m)\u001b[0m\u001b[0;34m\u001b[0m\u001b[0m\n",
      "\u001b[0;32m~/anaconda3/lib/python3.7/site-packages/matplotlib/pyplot.py\u001b[0m in \u001b[0;36mbar\u001b[0;34m(*args, **kwargs)\u001b[0m\n\u001b[1;32m   2773\u001b[0m                       mplDeprecation)\n\u001b[1;32m   2774\u001b[0m     \u001b[0;32mtry\u001b[0m\u001b[0;34m:\u001b[0m\u001b[0;34m\u001b[0m\u001b[0m\n\u001b[0;32m-> 2775\u001b[0;31m         \u001b[0mret\u001b[0m \u001b[0;34m=\u001b[0m \u001b[0max\u001b[0m\u001b[0;34m.\u001b[0m\u001b[0mbar\u001b[0m\u001b[0;34m(\u001b[0m\u001b[0;34m*\u001b[0m\u001b[0margs\u001b[0m\u001b[0;34m,\u001b[0m \u001b[0;34m**\u001b[0m\u001b[0mkwargs\u001b[0m\u001b[0;34m)\u001b[0m\u001b[0;34m\u001b[0m\u001b[0m\n\u001b[0m\u001b[1;32m   2776\u001b[0m     \u001b[0;32mfinally\u001b[0m\u001b[0;34m:\u001b[0m\u001b[0;34m\u001b[0m\u001b[0m\n\u001b[1;32m   2777\u001b[0m         \u001b[0max\u001b[0m\u001b[0;34m.\u001b[0m\u001b[0m_hold\u001b[0m \u001b[0;34m=\u001b[0m \u001b[0mwashold\u001b[0m\u001b[0;34m\u001b[0m\u001b[0m\n",
      "\u001b[0;32m~/anaconda3/lib/python3.7/site-packages/matplotlib/__init__.py\u001b[0m in \u001b[0;36minner\u001b[0;34m(ax, *args, **kwargs)\u001b[0m\n\u001b[1;32m   1865\u001b[0m                         \u001b[0;34m\"the Matplotlib list!)\"\u001b[0m \u001b[0;34m%\u001b[0m \u001b[0;34m(\u001b[0m\u001b[0mlabel_namer\u001b[0m\u001b[0;34m,\u001b[0m \u001b[0mfunc\u001b[0m\u001b[0;34m.\u001b[0m\u001b[0m__name__\u001b[0m\u001b[0;34m)\u001b[0m\u001b[0;34m,\u001b[0m\u001b[0;34m\u001b[0m\u001b[0m\n\u001b[1;32m   1866\u001b[0m                         RuntimeWarning, stacklevel=2)\n\u001b[0;32m-> 1867\u001b[0;31m             \u001b[0;32mreturn\u001b[0m \u001b[0mfunc\u001b[0m\u001b[0;34m(\u001b[0m\u001b[0max\u001b[0m\u001b[0;34m,\u001b[0m \u001b[0;34m*\u001b[0m\u001b[0margs\u001b[0m\u001b[0;34m,\u001b[0m \u001b[0;34m**\u001b[0m\u001b[0mkwargs\u001b[0m\u001b[0;34m)\u001b[0m\u001b[0;34m\u001b[0m\u001b[0m\n\u001b[0m\u001b[1;32m   1868\u001b[0m \u001b[0;34m\u001b[0m\u001b[0m\n\u001b[1;32m   1869\u001b[0m         inner.__doc__ = _add_data_doc(inner.__doc__,\n",
      "\u001b[0;32m~/anaconda3/lib/python3.7/site-packages/matplotlib/axes/_axes.py\u001b[0m in \u001b[0;36mbar\u001b[0;34m(self, *args, **kwargs)\u001b[0m\n\u001b[1;32m   2281\u001b[0m                 \u001b[0medgecolor\u001b[0m\u001b[0;34m=\u001b[0m\u001b[0me\u001b[0m\u001b[0;34m,\u001b[0m\u001b[0;34m\u001b[0m\u001b[0m\n\u001b[1;32m   2282\u001b[0m                 \u001b[0mlinewidth\u001b[0m\u001b[0;34m=\u001b[0m\u001b[0mlw\u001b[0m\u001b[0;34m,\u001b[0m\u001b[0;34m\u001b[0m\u001b[0m\n\u001b[0;32m-> 2283\u001b[0;31m                 \u001b[0mlabel\u001b[0m\u001b[0;34m=\u001b[0m\u001b[0;34m'_nolegend_'\u001b[0m\u001b[0;34m,\u001b[0m\u001b[0;34m\u001b[0m\u001b[0m\n\u001b[0m\u001b[1;32m   2284\u001b[0m                 )\n\u001b[1;32m   2285\u001b[0m             \u001b[0mr\u001b[0m\u001b[0;34m.\u001b[0m\u001b[0mupdate\u001b[0m\u001b[0;34m(\u001b[0m\u001b[0mkwargs\u001b[0m\u001b[0;34m)\u001b[0m\u001b[0;34m\u001b[0m\u001b[0m\n",
      "\u001b[0;32m~/anaconda3/lib/python3.7/site-packages/matplotlib/patches.py\u001b[0m in \u001b[0;36m__init__\u001b[0;34m(self, xy, width, height, angle, **kwargs)\u001b[0m\n\u001b[1;32m    684\u001b[0m         \"\"\"\n\u001b[1;32m    685\u001b[0m \u001b[0;34m\u001b[0m\u001b[0m\n\u001b[0;32m--> 686\u001b[0;31m         \u001b[0mPatch\u001b[0m\u001b[0;34m.\u001b[0m\u001b[0m__init__\u001b[0m\u001b[0;34m(\u001b[0m\u001b[0mself\u001b[0m\u001b[0;34m,\u001b[0m \u001b[0;34m**\u001b[0m\u001b[0mkwargs\u001b[0m\u001b[0;34m)\u001b[0m\u001b[0;34m\u001b[0m\u001b[0m\n\u001b[0m\u001b[1;32m    687\u001b[0m \u001b[0;34m\u001b[0m\u001b[0m\n\u001b[1;32m    688\u001b[0m         \u001b[0mself\u001b[0m\u001b[0;34m.\u001b[0m\u001b[0m_x0\u001b[0m \u001b[0;34m=\u001b[0m \u001b[0mxy\u001b[0m\u001b[0;34m[\u001b[0m\u001b[0;36m0\u001b[0m\u001b[0;34m]\u001b[0m\u001b[0;34m\u001b[0m\u001b[0m\n",
      "\u001b[0;32m~/anaconda3/lib/python3.7/site-packages/matplotlib/patches.py\u001b[0m in \u001b[0;36m__init__\u001b[0;34m(self, edgecolor, facecolor, color, linewidth, linestyle, antialiased, hatch, fill, capstyle, joinstyle, **kwargs)\u001b[0m\n\u001b[1;32m     93\u001b[0m         \u001b[0mself\u001b[0m\u001b[0;34m.\u001b[0m\u001b[0mset_fill\u001b[0m\u001b[0;34m(\u001b[0m\u001b[0mfill\u001b[0m\u001b[0;34m)\u001b[0m\u001b[0;34m\u001b[0m\u001b[0m\n\u001b[1;32m     94\u001b[0m         \u001b[0mself\u001b[0m\u001b[0;34m.\u001b[0m\u001b[0mset_linestyle\u001b[0m\u001b[0;34m(\u001b[0m\u001b[0mlinestyle\u001b[0m\u001b[0;34m)\u001b[0m\u001b[0;34m\u001b[0m\u001b[0m\n\u001b[0;32m---> 95\u001b[0;31m         \u001b[0mself\u001b[0m\u001b[0;34m.\u001b[0m\u001b[0mset_linewidth\u001b[0m\u001b[0;34m(\u001b[0m\u001b[0mlinewidth\u001b[0m\u001b[0;34m)\u001b[0m\u001b[0;34m\u001b[0m\u001b[0m\n\u001b[0m\u001b[1;32m     96\u001b[0m         \u001b[0mself\u001b[0m\u001b[0;34m.\u001b[0m\u001b[0mset_antialiased\u001b[0m\u001b[0;34m(\u001b[0m\u001b[0mantialiased\u001b[0m\u001b[0;34m)\u001b[0m\u001b[0;34m\u001b[0m\u001b[0m\n\u001b[1;32m     97\u001b[0m         \u001b[0mself\u001b[0m\u001b[0;34m.\u001b[0m\u001b[0mset_hatch\u001b[0m\u001b[0;34m(\u001b[0m\u001b[0mhatch\u001b[0m\u001b[0;34m)\u001b[0m\u001b[0;34m\u001b[0m\u001b[0m\n",
      "\u001b[0;32m~/anaconda3/lib/python3.7/site-packages/matplotlib/patches.py\u001b[0m in \u001b[0;36mset_linewidth\u001b[0;34m(self, w)\u001b[0m\n\u001b[1;32m    360\u001b[0m                 \u001b[0mw\u001b[0m \u001b[0;34m=\u001b[0m \u001b[0mmpl\u001b[0m\u001b[0;34m.\u001b[0m\u001b[0mrcParams\u001b[0m\u001b[0;34m[\u001b[0m\u001b[0;34m'axes.linewidth'\u001b[0m\u001b[0;34m]\u001b[0m\u001b[0;34m\u001b[0m\u001b[0m\n\u001b[1;32m    361\u001b[0m \u001b[0;34m\u001b[0m\u001b[0m\n\u001b[0;32m--> 362\u001b[0;31m         \u001b[0mself\u001b[0m\u001b[0;34m.\u001b[0m\u001b[0m_linewidth\u001b[0m \u001b[0;34m=\u001b[0m \u001b[0mfloat\u001b[0m\u001b[0;34m(\u001b[0m\u001b[0mw\u001b[0m\u001b[0;34m)\u001b[0m\u001b[0;34m\u001b[0m\u001b[0m\n\u001b[0m\u001b[1;32m    363\u001b[0m         \u001b[0;31m# scale the dash pattern by the linewidth\u001b[0m\u001b[0;34m\u001b[0m\u001b[0;34m\u001b[0m\u001b[0m\n\u001b[1;32m    364\u001b[0m         \u001b[0moffset\u001b[0m\u001b[0;34m,\u001b[0m \u001b[0mls\u001b[0m \u001b[0;34m=\u001b[0m \u001b[0mself\u001b[0m\u001b[0;34m.\u001b[0m\u001b[0m_us_dashes\u001b[0m\u001b[0;34m\u001b[0m\u001b[0m\n",
      "\u001b[0;31mTypeError\u001b[0m: only size-1 arrays can be converted to Python scalars"
     ]
    },
    {
     "data": {
      "image/png": "[encoded data removed]",
      "text/plain": [
       "<Figure size 432x288 with 1 Axes>"
      ]
     },
     "metadata": {
      "needs_background": "light"
     },
     "output_type": "display_data"
    }
   ],
   "source": [
    "execute('MatrixModel', qc)\n",
    "# execute('MatrixModel', qc, [[1, 0], [1/np.sqrt(2), 1/np.sqrt(2)], [1, 0], [1, 0], [1, 0]])\n",
    "# execute('MatrixModel', qc, [1, 0, 0, 0, 0, 0, 0, 0, 0, 0, 0, 0, 0, 0, 0, 0])"
   ]
  },
  {
   "cell_type": "code",
   "execution_count": null,
   "metadata": {},
   "outputs": [],
   "source": []
  }
 ],
 "metadata": {
  "kernelspec": {
   "display_name": "Python 3",
   "language": "python",
   "name": "python3"
  },
  "language_info": {
   "codemirror_mode": {
    "name": "ipython",
    "version": 3
   },
   "file_extension": ".py",
   "mimetype": "text/x-python",
   "name": "python",
   "nbconvert_exporter": "python",
   "pygments_lexer": "ipython3",
   "version": "3.7.0"
  }
 },
 "nbformat": 4,
 "nbformat_minor": 1
}
