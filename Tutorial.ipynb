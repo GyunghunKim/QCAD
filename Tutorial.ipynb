{
 "cells": [
  {
   "cell_type": "markdown",
   "metadata": {
    "collapsed": true
   },
   "source": [
    "## A Simple Tutorial For using QCAD"
   ]
  },
  {
   "cell_type": "code",
   "execution_count": 1,
   "metadata": {},
   "outputs": [],
   "source": [
    "from QCAD import Module, QuantumCircuit, execute\n",
    "from QCAD import TypicalModule as tm\n",
    "\n",
    "import numpy as np"
   ]
  },
  {
   "cell_type": "markdown",
   "metadata": {},
   "source": [
    "### 1. Definition of Module\n",
    "- 이미 정의된 Module을 아래 나열하였습니다. </br> TypicalModule Class를 이용해 사용하시면 됩니다.\n",
    "\n",
    "- tm.I, tm.H, tm.X, tm.Y, tm.Z, tm.CX, tm.CZ, tm.CCX, tm.CCZ, tm.RX, tm.RY, tm.RZ, tm.U, tm.MCU\n",
    "\n",
    "- 이미 정의된 모듈을 재사용하여 새로운 모듈을 정의할 수 있습니다. </br> 이때 모듈의 PORT 순서를 변경할 수 있습니다."
   ]
  },
  {
   "cell_type": "code",
   "execution_count": 2,
   "metadata": {
    "collapsed": false
   },
   "outputs": [],
   "source": [
    "rx_half_pi = tm.RX(np.pi/2)\n",
    "\n",
    "custom_u = tm.U(2, [[-1, 0], [0, 1]])\n",
    "\n",
    "multi_control_h = tm.MCU(3, [0, 1], tm.H[2])\n",
    "\n",
    "my_module = Module('M', 4, [tm.H[0],\n",
    "                            tm.H[1],\n",
    "                            tm.H[2],\n",
    "                            tm.H[3],\n",
    "                            tm.CX[3, 2],\n",
    "                            tm.Y[1],\n",
    "                            tm.Z[2],\n",
    "                            tm.H[0],\n",
    "                            tm.T[1],\n",
    "                            tm.T[2],\n",
    "                            tm.CX[3, 2],\n",
    "                            tm.CX[2, 0]])"
   ]
  },
  {
   "cell_type": "markdown",
   "metadata": {},
   "source": [
    "### 2. Quantum Circuit Description using Modules\n",
    "\n",
    "Quantum Circuit은 사실상 하나의 큰 모듈과 같습니다. </br> 모듈을 정의한 뒤 이를 이용해 QC를 생성합니다."
   ]
  },
  {
   "cell_type": "code",
   "execution_count": 3,
   "metadata": {},
   "outputs": [],
   "source": [
    "qc = QuantumCircuit(my_module)"
   ]
  },
  {
   "cell_type": "markdown",
   "metadata": {},
   "source": [
    "### 3. Simulation of Quantum Circuit with arbitrary initial state"
   ]
  },
  {
   "cell_type": "code",
   "execution_count": 4,
   "metadata": {},
   "outputs": [
    {
     "name": "stdout",
     "output_type": "stream",
     "text": [
      "[[ 0.00000000e+00-3.53553391e-01j]\n [ 8.12941988e-18-8.12941988e-18j]\n [-2.50000000e-01+2.50000000e-01j]\n [-1.14967359e-17+0.00000000e+00j]\n [-2.50000000e-01+2.50000000e-01j]\n [ 0.00000000e+00+1.14967359e-17j]\n [ 3.53553391e-01+0.00000000e+00j]\n [ 8.12941988e-18-8.12941988e-18j]\n [ 0.00000000e+00-3.53553391e-01j]\n [ 8.12941988e-18-8.12941988e-18j]\n [-2.50000000e-01+2.50000000e-01j]\n [-1.14967359e-17+0.00000000e+00j]\n [-2.50000000e-01+2.50000000e-01j]\n [ 0.00000000e+00+1.14967359e-17j]\n [ 3.53553391e-01+0.00000000e+00j]\n [ 8.12941988e-18-8.12941988e-18j]]\n"
     ]
    },
    {
     "name": "stdout",
     "output_type": "stream",
     "text": [
      "[[ 0.00000000e+00+3.53553391e-01j]\n [-8.12941988e-18+8.12941988e-18j]\n [-2.50000000e-01+2.50000000e-01j]\n [-1.14967359e-17+0.00000000e+00j]\n [ 2.50000000e-01-2.50000000e-01j]\n [ 0.00000000e+00-1.14967359e-17j]\n [ 3.53553391e-01+0.00000000e+00j]\n [ 8.12941988e-18-8.12941988e-18j]\n [ 0.00000000e+00+3.53553391e-01j]\n [-8.12941988e-18+8.12941988e-18j]\n [-2.50000000e-01+2.50000000e-01j]\n [-1.14967359e-17+0.00000000e+00j]\n [ 2.50000000e-01-2.50000000e-01j]\n [ 0.00000000e+00-1.14967359e-17j]\n [ 3.53553391e-01+0.00000000e+00j]\n [ 8.12941988e-18-8.12941988e-18j]]\n"
     ]
    },
    {
     "name": "stdout",
     "output_type": "stream",
     "text": [
      "[[ 0.00000000e+00-3.53553391e-01j]\n [ 8.12941988e-18-8.12941988e-18j]\n [-2.50000000e-01+2.50000000e-01j]\n [-1.14967359e-17+0.00000000e+00j]\n [-2.50000000e-01+2.50000000e-01j]\n [ 0.00000000e+00+1.14967359e-17j]\n [ 3.53553391e-01+0.00000000e+00j]\n [ 8.12941988e-18-8.12941988e-18j]\n [ 0.00000000e+00-3.53553391e-01j]\n [ 8.12941988e-18-8.12941988e-18j]\n [-2.50000000e-01+2.50000000e-01j]\n [-1.14967359e-17+0.00000000e+00j]\n [-2.50000000e-01+2.50000000e-01j]\n [ 0.00000000e+00+1.14967359e-17j]\n [ 3.53553391e-01+0.00000000e+00j]\n [ 8.12941988e-18-8.12941988e-18j]]\n"
     ]
    }
   ],
   "source": [
    "execute('MatrixModel', qc)\n",
    "execute('MatrixModel', qc, [[1, 0], [0, 1], [1, 0], [1, 0]])\n",
    "execute('MatrixModel', qc, [1, 0, 0, 0, 0, 0, 0, 0, 0, 0, 0, 0, 0, 0, 0, 0])"
   ]
  },
  {
   "cell_type": "code",
   "execution_count": null,
   "metadata": {},
   "outputs": [],
   "source": []
  }
 ],
 "metadata": {
  "kernelspec": {
   "display_name": "Python 2",
   "language": "python",
   "name": "python2"
  },
  "language_info": {
   "codemirror_mode": {
    "name": "ipython",
    "version": 2
   },
   "file_extension": ".py",
   "mimetype": "text/x-python",
   "name": "python",
   "nbconvert_exporter": "python",
   "pygments_lexer": "ipython2",
   "version": "2.7.6"
  }
 },
 "nbformat": 4,
 "nbformat_minor": 0
}
