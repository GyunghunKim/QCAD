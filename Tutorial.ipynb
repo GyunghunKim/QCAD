{
 "cells": [
  {
   "cell_type": "markdown",
   "metadata": {
    "collapsed": true
   },
   "source": [
    "## A Simple Tutorial For using QCAD"
   ]
  },
  {
   "cell_type": "code",
   "execution_count": 1,
   "metadata": {},
   "outputs": [],
   "source": [
    "from QCAD import Module, QuantumCircuit, execute\n",
    "from QCAD import TypicalModule as tm\n",
    "\n",
    "import numpy as np"
   ]
  },
  {
   "cell_type": "markdown",
   "metadata": {},
   "source": [
    "### 1. Definition of Module\n",
    "- 이미 정의된 Module을 아래 나열하였습니다. </br> TypicalModule Class를 이용해 사용하시면 됩니다.\n",
    "\n",
    "- tm.I, tm.H, tm.X, tm.Y, tm.Z, tm.CX, tm.CZ, tm.CCX, tm.CCZ, tm.RX, tm.RY, tm.RZ, tm.U, tm.MCU\n",
    "\n",
    "- 이미 정의된 모듈을 재사용하여 새로운 모듈을 정의할 수 있습니다. </br> 이때 모듈의 PORT 순서를 변경할 수 있습니다."
   ]
  },
  {
   "cell_type": "code",
   "execution_count": 2,
   "metadata": {},
   "outputs": [
    {
     "data": {
      "text/plain": [
       "([<QCAD.module.Module at 0x7f095053ba20>,\n",
       "  <QCAD.module.Module at 0x7f0950547320>,\n",
       "  <QCAD.module.Module at 0x7f095053ba90>,\n",
       "  <QCAD.module.Module at 0x7f09505472e8>,\n",
       "  <QCAD.module.Module at 0x7f0950547c88>,\n",
       "  <QCAD.module.Module at 0x7f0948a0dba8>,\n",
       "  <QCAD.module.Module at 0x7f095053b9e8>],\n",
       " [[0], [1], [3], [2], [2], [3], [0]])"
      ]
     },
     "execution_count": 2,
     "metadata": {},
     "output_type": "execute_result"
    }
   ],
   "source": [
    "rx_half_pi = tm.RX(np.pi/2)\n",
    "\n",
    "custom_u = tm.U(2, [[-1, 0], [0, 1]])\n",
    "\n",
    "multi_control_h = tm.MCU(3, [0, 1], tm.H[2])\n",
    "\n",
    "M = Module('M', 4, [tm.H[0],\n",
    "                    tm.Z[3],\n",
    "                    tm.X[2],\n",
    "                    tm.Y[1],\n",
    "                    tm.T[1],\n",
    "                    tm.S[2],\n",
    "                    tm.I[0]])\n",
    "\n",
    "N = Module('N', 4, [M[0, 2, 3, 1]])\n",
    "\n",
    "N.typ_decompose()"
   ]
  },
  {
   "cell_type": "markdown",
   "metadata": {},
   "source": [
    "### 2. Quantum Circuit Description using Modules\n",
    "\n",
    "Quantum Circuit은 사실상 하나의 큰 모듈과 같습니다. </br> 모듈을 정의한 뒤 이를 이용해 QC를 생성합니다."
   ]
  },
  {
   "cell_type": "code",
   "execution_count": 3,
   "metadata": {},
   "outputs": [],
   "source": [
    "qc = QuantumCircuit(N)"
   ]
  },
  {
   "cell_type": "markdown",
   "metadata": {},
   "source": [
    "### 3. Simulation of Quantum Circuit with arbitrary initial state"
   ]
  },
  {
   "cell_type": "code",
   "execution_count": 5,
   "metadata": {
    "scrolled": true
   },
   "outputs": [
    {
     "name": "stdout",
     "output_type": "stream",
     "text": [
      "[0j, 0j, 0j, 0j, 0j, 0j, 0j, 0j, 0j, 0j, 0j, 0j, (-0.5+0.5000000000000001j), (-0.5+0.5000000000000001j), 0j, 0j]\n"
     ]
    },
    {
     "data": {
      "image/png": "[encoded data removed]",
      "text/plain": [
       "<Figure size 432x288 with 1 Axes>"
      ]
     },
     "metadata": {
      "needs_background": "light"
     },
     "output_type": "display_data"
    },
    {
     "name": "stdout",
     "output_type": "stream",
     "text": [
      "[0j, 0j, 0j, 0j, 0j, 0j, 0j, 0j, 0j, 0j, 0j, 0j, (-0.35355339059327373+0.3535533905932738j), (-0.35355339059327373+0.3535533905932738j), (0.35355339059327373-0.3535533905932738j), (0.35355339059327373-0.3535533905932738j)]\n"
     ]
    },
    {
     "data": {
      "image/png": "[encoded data removed]",
      "text/plain": [
       "<Figure size 432x288 with 1 Axes>"
      ]
     },
     "metadata": {
      "needs_background": "light"
     },
     "output_type": "display_data"
    },
    {
     "name": "stdout",
     "output_type": "stream",
     "text": [
      "[0j, 0j, 0j, 0j, 0j, 0j, 0j, 0j, 0j, 0j, 0j, 0j, (-0.5+0.5000000000000001j), (-0.5+0.5000000000000001j), 0j, 0j]\n"
     ]
    },
    {
     "data": {
      "image/png": "[encoded data removed]",
      "text/plain": [
       "<Figure size 432x288 with 1 Axes>"
      ]
     },
     "metadata": {
      "needs_background": "light"
     },
     "output_type": "display_data"
    }
   ],
   "source": [
    "execute('MatrixModel', qc)\n",
    "execute('MatrixModel', qc, [[1, 0], [1/np.sqrt(2), 1/np.sqrt(2)], [1, 0], [1, 0]])\n",
    "execute('MatrixModel', qc, [1, 0, 0, 0, 0, 0, 0, 0, 0, 0, 0, 0, 0, 0, 0, 0])"
   ]
  },
  {
   "cell_type": "markdown",
   "metadata": {},
   "source": [
    "### 4. Simulating using C++ simulator\n",
    "\n",
    "아직 제작 중입니다. 개발 완료된 부분과 개발 예정인 부분은 다음과 같습니다.\n",
    "\n",
    "> ### 성능\n",
    "> 랩톱 기준 (i5 4세대, 4GB RAM)\n",
    "> 25qubit 1개 게이트 1초 정도 소요\n",
    "\n",
    "> ### 현재 상태\n",
    "> 1. ONLY single target gates\n",
    "> 1. Results are on the console\n",
    "> 1. Initial state = |0>\n",
    "\n",
    "> ### 개발 예정 (~1/8)\n",
    "> 1. CNOT gate\n",
    "> 1. Arbitrary initial state\n",
    "> 1. Running time measurement (Interface?)\n",
    "> 1. Visualization using graphs, interaction with python output stream\n",
    "> 1. Optimization for particular single gates Ex) X, Y ..."
   ]
  },
  {
   "cell_type": "code",
   "execution_count": 1,
   "metadata": {},
   "outputs": [],
   "source": [
    "from QCAD import Module, QuantumCircuit, execute\n",
    "from QCAD import TypicalModule as tm\n",
    "\n",
    "import numpy as np\n",
    "\n",
    "M = Module('M', 4, [tm.H[0],\n",
    "                    tm.CX[1, 2]])\n",
    "N = Module('N', 25, [M[3, 4, 5, 6]])\n",
    "\n",
    "qc = QuantumCircuit(N)\n",
    "\n",
    "execute('Cimulator', qc, option='NoPrint')"
   ]
  },
  {
   "cell_type": "code",
   "execution_count": null,
   "metadata": {},
   "outputs": [],
   "source": []
  }
 ],
 "metadata": {
  "kernelspec": {
   "display_name": "Python 3",
   "language": "python",
   "name": "python3"
  },
  "language_info": {
   "codemirror_mode": {
    "name": "ipython",
    "version": 3
   },
   "file_extension": ".py",
   "mimetype": "text/x-python",
   "name": "python",
   "nbconvert_exporter": "python",
   "pygments_lexer": "ipython3",
   "version": "3.7.0"
  }
 },
 "nbformat": 4,
 "nbformat_minor": 1
}
