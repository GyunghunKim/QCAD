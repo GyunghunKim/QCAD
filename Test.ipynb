{
 "cells": [
  {
   "cell_type": "markdown",
   "metadata": {},
   "source": [
    "# Test 1. Constant Algorithm"
   ]
  },
  {
   "cell_type": "code",
   "execution_count": 1,
   "metadata": {
    "scrolled": true
   },
   "outputs": [
    {
     "name": "stdout",
     "output_type": "stream",
     "text": [
      "[(1.0000000000000002+0j), (-3.251767952832691e-17+0j), (-3.5840407048292336e-17+0j), (1.4262963416290969e-33+0j), 0j, 0j, 0j, 0j]\n"
     ]
    },
    {
     "data": {
      "text/plain": [
       "<Figure size 640x480 with 1 Axes>"
      ]
     },
     "metadata": {},
     "output_type": "display_data"
    },
    {
     "name": "stdout",
     "output_type": "stream",
     "text": [
      "[(0.7071067811865476+0j), (-2.2993471702930928e-17+0j), (0.7071067811865476+0j), (-2.2993471702930928e-17+0j), 0j, 0j, 0j, 0j]\n"
     ]
    },
    {
     "data": {
      "text/plain": [
       "<Figure size 640x480 with 1 Axes>"
      ]
     },
     "metadata": {},
     "output_type": "display_data"
    },
    {
     "name": "stdout",
     "output_type": "stream",
     "text": [
      "[(0.5000000000000001+0j), (0.5000000000000001+0j), (-3.417904328830962e-17+0j), (0.5000000000000001+0j), (-1.7920203524146168e-17+0j), 0j, (0.5000000000000001+0j), 0j]\n"
     ]
    },
    {
     "data": {
      "text/plain": [
       "<Figure size 640x480 with 1 Axes>"
      ]
     },
     "metadata": {},
     "output_type": "display_data"
    },
    {
     "name": "stdout",
     "output_type": "stream",
     "text": [
      "==================================================\n",
      "State\t\t: Prob\n",
      "000\t\t: 1.0000000000000004\n",
      "==================================================\n",
      "==================================================\n",
      "State\t\t: Prob\n",
      "000\t\t: 0.5000000000000002\n",
      "010\t\t: 0.5000000000000002\n",
      "==================================================\n",
      "==================================================\n",
      "State\t\t: Prob\n",
      "000\t\t: 0.2500000000000001\n",
      "001\t\t: 0.2500000000000001\n",
      "011\t\t: 0.2500000000000001\n",
      "110\t\t: 0.2500000000000001\n",
      "==================================================\n"
     ]
    }
   ],
   "source": [
    "from QCAD import Module, QuantumCircuit, execute\n",
    "from QCAD import TypicalModule as tm\n",
    "\n",
    "import numpy as np\n",
    "\n",
    "UCX = tm.U('UCX', 2, [[1., 0., 0., 0.],\n",
    "                     [0., 1., 0., 0.],\n",
    "                     [0., 0., 0., 1.],\n",
    "                     [0., 0., 1., 0.]])\n",
    "\n",
    "QC = Module('QC', 3, [tm.H[0],\n",
    "                     tm.X[1],\n",
    "                     tm.H[1],\n",
    "                     UCX[1, 2],\n",
    "                     UCX[1, 2],\n",
    "                     tm.H[0],\n",
    "                     tm.H[1],\n",
    "                     tm.X[1]])\n",
    "\n",
    "qc = QuantumCircuit(QC)\n",
    "\n",
    "execute('MatrixModel', qc, option='barplot')\n",
    "execute('MatrixModel', qc, initial_state = [[1, 0], [1/np.sqrt(2), 1/np.sqrt(2)], [1, 0]], option='barplot')\n",
    "execute('MatrixModel', qc, initial_state = [0.5, 0.5, 0, 0.5, 0, 0, 0.5, 0], option='barplot')\n",
    "execute('Cimulator', qc, option='nonzero')\n",
    "execute('Cimulator', qc, initial_state = [[1, 0], [1/np.sqrt(2), 1/np.sqrt(2)], [1, 0]], option='nonzero')\n",
    "execute('Cimulator', qc, initial_state = [0.5, 0.5, 0, 0.5, 0, 0, 0.5, 0], option='nonzero')"
   ]
  },
  {
   "cell_type": "code",
   "execution_count": null,
   "metadata": {},
   "outputs": [],
   "source": []
  },
  {
   "cell_type": "code",
   "execution_count": null,
   "metadata": {},
   "outputs": [],
   "source": []
  }
 ],
 "metadata": {
  "kernelspec": {
   "display_name": "Python 3",
   "language": "python",
   "name": "python3"
  },
  "language_info": {
   "codemirror_mode": {
    "name": "ipython",
    "version": 3
   },
   "file_extension": ".py",
   "mimetype": "text/x-python",
   "name": "python",
   "nbconvert_exporter": "python",
   "pygments_lexer": "ipython3",
   "version": "3.7.0"
  }
 },
 "nbformat": 4,
 "nbformat_minor": 2
}
