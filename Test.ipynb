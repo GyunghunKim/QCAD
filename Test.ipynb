{
 "cells": [
  {
   "cell_type": "markdown",
   "metadata": {},
   "source": [
    "# Test 1. Constant Algorithm"
   ]
  },
  {
   "cell_type": "code",
   "execution_count": 1,
   "metadata": {
    "scrolled": true
   },
   "outputs": [
    {
     "data": {
      "text/plain": [
       "<Figure size 640x480 with 1 Axes>"
      ]
     },
     "metadata": {},
     "output_type": "display_data"
    },
    {
     "data": {
      "text/plain": [
       "<Figure size 640x480 with 1 Axes>"
      ]
     },
     "metadata": {},
     "output_type": "display_data"
    },
    {
     "data": {
      "text/plain": [
       "<Figure size 640x480 with 1 Axes>"
      ]
     },
     "metadata": {},
     "output_type": "display_data"
    },
    {
     "name": "stdout",
     "output_type": "stream",
     "text": [
      "==================================================\n",
      "State\t\t: Prob\n",
      "000\t\t: (1.0000000000000002+0j)\n",
      "==================================================\n",
      "==================================================\n",
      "State\t\t: Prob\n",
      "001\t\t: (0.7071067811865477+0j)\n",
      "011\t\t: (0.7071067811865477+0j)\n",
      "==================================================\n",
      "==================================================\n",
      "State\t\t: Prob\n",
      "000\t\t: (0.5000000000000001+0j)\n",
      "001\t\t: (0.5000000000000001+0j)\n",
      "011\t\t: (0.5000000000000001+0j)\n",
      "110\t\t: (0.5000000000000001+0j)\n",
      "==================================================\n"
     ]
    }
   ],
   "source": [
    "from QCAD import Module, QuantumCircuit, execute\n",
    "from QCAD import TypicalModule as tm\n",
    "\n",
    "import numpy as np\n",
    "\n",
    "UCX = tm.U('UCX', 2, [[1., 0., 0., 0.],\n",
    "                     [0., 1., 0., 0.],\n",
    "                     [0., 0., 0., 1.],\n",
    "                     [0., 0., 1., 0.]])\n",
    "\n",
    "QC = Module('QC', 3, [tm.H[0],\n",
    "                     tm.X[1],\n",
    "                     tm.H[1],\n",
    "                     UCX[1, 2],\n",
    "                     UCX[1, 2],\n",
    "                     tm.H[0],\n",
    "                     tm.H[1],\n",
    "                     tm.X[1]])\n",
    "\n",
    "qc = QuantumCircuit(QC)\n",
    "\n",
    "execute('MatrixModel', qc, option='barplot')\n",
    "execute('MatrixModel', qc, initial_state = [[1, 0], [1/np.sqrt(2), 1/np.sqrt(2)], [1, 0]], option='barplot')\n",
    "execute('MatrixModel', qc, initial_state = [0.5, 0.5, 0, 0.5, 0, 0, 0.5, 0], option='barplot')\n",
    "execute('Cimulator', qc, option='nonzero')\n",
    "execute('Cimulator', qc, initial_state = [[0, 1], [1/np.sqrt(2), 1/np.sqrt(2)], [1, 0]], option='nonzero')\n",
    "execute('Cimulator', qc, initial_state = [0.5, 0.5, 0, 0.5, 0, 0, 0.5, 0], option='nonzero')"
   ]
  },
  {
   "cell_type": "markdown",
   "metadata": {},
   "source": [
    "# Test 2. Quite Complicated <span style=\"color:red\">(C++ Backend NEEDS TO BE FIXED)</span>"
   ]
  },
  {
   "cell_type": "code",
   "execution_count": 4,
   "metadata": {},
   "outputs": [
    {
     "name": "stdout",
     "output_type": "stream",
     "text": [
      "==================================================\n",
      "State\t\t: Prob\n",
      "00000\t\t: (0.35355339059327384+0j)\n",
      "00001\t\t: (0.35355339059327384+0j)\n",
      "00100\t\t: (0.35355339059327384+0j)\n",
      "00101\t\t: (0.35355339059327384+0j)\n",
      "10000\t\t: (0.35355339059327384+0j)\n",
      "10001\t\t: (0.35355339059327384+0j)\n",
      "10100\t\t: (0.35355339059327384+0j)\n",
      "10101\t\t: (0.35355339059327384+0j)\n",
      "==================================================\n",
      "==================================================\n",
      "State\t\t: Prob\n",
      "00000\t\t: (1.0000000000000002+0j)\n",
      "==================================================\n"
     ]
    }
   ],
   "source": [
    "SWAP = Module('SWAP', 2, [tm.CX[0, 1],\n",
    "                         tm.CX[1, 0],\n",
    "                         tm.CX[0, 1]])\n",
    "\n",
    "# Controlled Gates\n",
    "\n",
    "CH = tm.MCU('CH', 2, [0], tm.H[1])\n",
    "CS = tm.MCU('CS', 2, [0], tm.S[1])\n",
    "CT = tm.MCU('CT', 2, [0], tm.T[1])\n",
    "\n",
    "# Module Fourier3\n",
    "\n",
    "F3 = Module('F3', 3, [tm.H[0],\n",
    "                      CS[1, 0],\n",
    "                      CT[2, 0],\n",
    "                      tm.H[1],\n",
    "                      CS[2, 1],\n",
    "                      tm.H[2],\n",
    "                      SWAP[0, 2]])\n",
    "\n",
    "# Module Quantum Circuit\n",
    "\n",
    "CSWAP = tm.MCU('CSWAP', 3, [0], SWAP[1, 2])\n",
    "\n",
    "QC = Module('QC', 5, [F3[0, 2, 4],\n",
    "                      CSWAP[4, 0, 2],\n",
    "                      tm.MCU('MCF3', 5, [0, 1], F3[2, 3, 4])[0, 1, 2, 3, 4]])\n",
    "\n",
    "qc = QuantumCircuit(QC)\n",
    "\n",
    "execute('MatrixModel', qc, option='nonzero')\n",
    "execute('Cimulator', qc, option='nonzero')"
   ]
  },
  {
   "cell_type": "code",
   "execution_count": null,
   "metadata": {},
   "outputs": [],
   "source": []
  },
  {
   "cell_type": "code",
   "execution_count": null,
   "metadata": {},
   "outputs": [],
   "source": []
  }
 ],
 "metadata": {
  "kernelspec": {
   "display_name": "Python 3",
   "language": "python",
   "name": "python3"
  },
  "language_info": {
   "codemirror_mode": {
    "name": "ipython",
    "version": 3
   },
   "file_extension": ".py",
   "mimetype": "text/x-python",
   "name": "python",
   "nbconvert_exporter": "python",
   "pygments_lexer": "ipython3",
   "version": "3.7.0"
  }
 },
 "nbformat": 4,
 "nbformat_minor": 2
}
